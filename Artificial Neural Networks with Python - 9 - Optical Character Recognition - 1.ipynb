{
 "cells": [
  {
   "cell_type": "markdown",
   "metadata": {
    "deletable": true,
    "editable": true
   },
   "source": [
    "# <center> Artificial Neural Networks </center>"
   ]
  },
  {
   "cell_type": "markdown",
   "metadata": {
    "deletable": true,
    "editable": true
   },
   "source": [
    "- basic concepts of artificial neural networks\n",
    "- building a perceptron classifier\n",
    "- building a single layer neural network\n",
    "- building a multilayer neural network\n",
    "- analyzing sequential data with RNNs (possible)\n",
    "- constructing an OCR engine"
   ]
  },
  {
   "cell_type": "markdown",
   "metadata": {
    "collapsed": true,
    "deletable": true,
    "editable": true
   },
   "source": [
    "## 1. Basic Concepts\n",
    "\n",
    "![](colorednn.svg)\n",
    "<p style='float:right;'>Credits: By Glosser.ca [CC BY-SA 3.0], via Wikimedia Commons</p>"
   ]
  },
  {
   "cell_type": "markdown",
   "metadata": {
    "deletable": true,
    "editable": true
   },
   "source": [
    "- history starting in 1940s (some argue for even earlier)\n",
    "- not much progress because of the lack of: computational power and large datasets\n",
    "- ANNs (composed of artificial neurons) seek problem solving similar to the human brain\n",
    "- used for tasks like: speech recognition, computer vision, recommender systems, medical diagnosis, etc.\n",
    "- require numerical input data\n",
    "\n",
    "#### The training process (usually):\n",
    "\n",
    "<p><center> Labeled data (dataset) => Numerical data => Training to minimize error (difference between the predicted and the actual output)</center></p>"
   ]
  },
  {
   "cell_type": "markdown",
   "metadata": {
    "deletable": true,
    "editable": true
   },
   "source": [
    "## 2. The Perceptron\n",
    "\n",
    "- artificial neuron - receives input => does computation on it => produces an output"
   ]
  },
  {
   "cell_type": "code",
   "execution_count": 1,
   "metadata": {
    "collapsed": true,
    "deletable": true,
    "editable": true
   },
   "outputs": [],
   "source": [
    "import numpy as np\n",
    "import matplotlib.pyplot as plt\n",
    "import neurolab as nl\n",
    "%matplotlib inline"
   ]
  },
  {
   "cell_type": "code",
   "execution_count": 2,
   "metadata": {
    "collapsed": true,
    "deletable": true,
    "editable": true
   },
   "outputs": [],
   "source": [
    "num_dataset = np.array([[0.22, 0.34, 0], [0.21, 0.37, 0], [0.25, 0.31, 0], [0.76, 0.19, 1], [0.84, 0.14, 1]])"
   ]
  },
  {
   "cell_type": "code",
   "execution_count": 3,
   "metadata": {
    "collapsed": true,
    "deletable": true,
    "editable": true
   },
   "outputs": [],
   "source": [
    "features = num_dataset[:, :2]\n",
    "labels = num_dataset[:, 2].reshape((num_dataset.shape[0], 1))"
   ]
  },
  {
   "cell_type": "code",
   "execution_count": 4,
   "metadata": {
    "collapsed": false,
    "deletable": true,
    "editable": true
   },
   "outputs": [
    {
     "data": {
      "text/plain": [
       "<matplotlib.text.Text at 0x23d84d7da90>"
      ]
     },
     "execution_count": 4,
     "metadata": {},
     "output_type": "execute_result"
    },
    {
     "data": {
      "image/png": "[encoded data removed]",
      "text/plain": [
       "<matplotlib.figure.Figure at 0x23d84c57f98>"
      ]
     },
     "metadata": {},
     "output_type": "display_data"
    }
   ],
   "source": [
    "plt.scatter(features[:,0], features[:,1])\n",
    "plt.xlabel('Dimension 1')\n",
    "plt.ylabel('Dimension 2')\n",
    "plt.title('Input Data')"
   ]
  },
  {
   "cell_type": "code",
   "execution_count": 5,
   "metadata": {
    "collapsed": true,
    "deletable": true,
    "editable": true
   },
   "outputs": [],
   "source": [
    "dim1_min, dim1_max, dim2_min, dim2_max = 0, 1, 0, 1"
   ]
  },
  {
   "cell_type": "code",
   "execution_count": 6,
   "metadata": {
    "collapsed": true,
    "deletable": true,
    "editable": true
   },
   "outputs": [],
   "source": [
    "num_output = labels.shape[1]"
   ]
  },
  {
   "cell_type": "code",
   "execution_count": 7,
   "metadata": {
    "collapsed": true,
    "deletable": true,
    "editable": true
   },
   "outputs": [],
   "source": [
    "dim1 = [dim1_min, dim1_max]\n",
    "dim2 = [dim2_min, dim2_max]"
   ]
  },
  {
   "cell_type": "code",
   "execution_count": 8,
   "metadata": {
    "collapsed": true,
    "deletable": true,
    "editable": true
   },
   "outputs": [],
   "source": [
    "perceptron = nl.net.newp([dim1, dim2], num_output)"
   ]
  },
  {
   "cell_type": "code",
   "execution_count": 9,
   "metadata": {
    "collapsed": false,
    "deletable": true,
    "editable": true
   },
   "outputs": [
    {
     "name": "stdout",
     "output_type": "stream",
     "text": [
      "The goal of learning is reached\n"
     ]
    },
    {
     "data": {
      "image/png": "[encoded data removed]",
      "text/plain": [
       "<matplotlib.figure.Figure at 0x23d84d8d1d0>"
      ]
     },
     "metadata": {},
     "output_type": "display_data"
    }
   ],
   "source": [
    "error_progress = perceptron.train(features, labels, epochs=100, show=20, lr=0.03)\n",
    "\n",
    "plt.plot(error_progress)\n",
    "plt.xlabel('Number of Epochs')\n",
    "plt.ylabel('Training Error')\n",
    "plt.title('Training Error Progress')\n",
    "plt.grid()"
   ]
  },
  {
   "cell_type": "code",
   "execution_count": 10,
   "metadata": {
    "collapsed": false,
    "deletable": true,
    "editable": true
   },
   "outputs": [
    {
     "data": {
      "text/plain": [
       "array([[ 1.]])"
      ]
     },
     "execution_count": 10,
     "metadata": {},
     "output_type": "execute_result"
    }
   ],
   "source": [
    "perceptron.sim([[0.81, 0.23]])"
   ]
  },
  {
   "cell_type": "code",
   "execution_count": 11,
   "metadata": {
    "collapsed": false,
    "deletable": true,
    "editable": true
   },
   "outputs": [
    {
     "data": {
      "text/plain": [
       "array([[ 0.]])"
      ]
     },
     "execution_count": 11,
     "metadata": {},
     "output_type": "execute_result"
    }
   ],
   "source": [
    "perceptron.sim([[0.27, 0.42]])"
   ]
  },
  {
   "cell_type": "markdown",
   "metadata": {
    "collapsed": true,
    "deletable": true,
    "editable": true
   },
   "source": [
    "## 3. Single Layer Neural Network\n",
    "\n",
    "- collection of artificial neurons"
   ]
  },
  {
   "cell_type": "code",
   "execution_count": 12,
   "metadata": {
    "collapsed": false,
    "deletable": true,
    "editable": true
   },
   "outputs": [
    {
     "data": {
      "text/plain": [
       "array([[ 1. ,  4. ,  0. ,  0. ],\n",
       "       [ 1.1,  3.9,  0. ,  0. ],\n",
       "       [ 1.2,  4.1,  0. ,  0. ],\n",
       "       [ 0.9,  3.7,  0. ,  0. ],\n",
       "       [ 7. ,  4. ,  0. ,  1. ],\n",
       "       [ 7.2,  4.1,  0. ,  1. ],\n",
       "       [ 6.9,  3.9,  0. ,  1. ],\n",
       "       [ 7.1,  4.2,  0. ,  1. ],\n",
       "       [ 4. ,  1. ,  1. ,  0. ],\n",
       "       [ 4.1,  0.9,  1. ,  0. ],\n",
       "       [ 4.2,  1.1,  1. ,  0. ],\n",
       "       [ 3.9,  0.8,  1. ,  0. ],\n",
       "       [ 4. ,  7. ,  1. ,  1. ],\n",
       "       [ 4.2,  7.2,  1. ,  1. ],\n",
       "       [ 3.9,  7.1,  1. ,  1. ],\n",
       "       [ 4.1,  6.8,  1. ,  1. ]])"
      ]
     },
     "execution_count": 12,
     "metadata": {},
     "output_type": "execute_result"
    }
   ],
   "source": [
    "text = np.loadtxt('data_simple_nn.txt')\n",
    "data = text[:, 0:2]\n",
    "labels = text[:, 2:]\n",
    "\n",
    "text"
   ]
  },
  {
   "cell_type": "code",
   "execution_count": 13,
   "metadata": {
    "collapsed": false,
    "deletable": true,
    "editable": true
   },
   "outputs": [
    {
     "data": {
      "text/plain": [
       "array([[ 1. ,  4. ],\n",
       "       [ 1.1,  3.9],\n",
       "       [ 1.2,  4.1],\n",
       "       [ 0.9,  3.7],\n",
       "       [ 7. ,  4. ],\n",
       "       [ 7.2,  4.1],\n",
       "       [ 6.9,  3.9],\n",
       "       [ 7.1,  4.2],\n",
       "       [ 4. ,  1. ],\n",
       "       [ 4.1,  0.9],\n",
       "       [ 4.2,  1.1],\n",
       "       [ 3.9,  0.8],\n",
       "       [ 4. ,  7. ],\n",
       "       [ 4.2,  7.2],\n",
       "       [ 3.9,  7.1],\n",
       "       [ 4.1,  6.8]])"
      ]
     },
     "execution_count": 13,
     "metadata": {},
     "output_type": "execute_result"
    }
   ],
   "source": [
    "data"
   ]
  },
  {
   "cell_type": "code",
   "execution_count": 14,
   "metadata": {
    "collapsed": false,
    "deletable": true,
    "editable": true
   },
   "outputs": [
    {
     "data": {
      "text/plain": [
       "array([[ 0.,  0.],\n",
       "       [ 0.,  0.],\n",
       "       [ 0.,  0.],\n",
       "       [ 0.,  0.],\n",
       "       [ 0.,  1.],\n",
       "       [ 0.,  1.],\n",
       "       [ 0.,  1.],\n",
       "       [ 0.,  1.],\n",
       "       [ 1.,  0.],\n",
       "       [ 1.,  0.],\n",
       "       [ 1.,  0.],\n",
       "       [ 1.,  0.],\n",
       "       [ 1.,  1.],\n",
       "       [ 1.,  1.],\n",
       "       [ 1.,  1.],\n",
       "       [ 1.,  1.]])"
      ]
     },
     "execution_count": 14,
     "metadata": {},
     "output_type": "execute_result"
    }
   ],
   "source": [
    "labels"
   ]
  },
  {
   "cell_type": "code",
   "execution_count": 15,
   "metadata": {
    "collapsed": false,
    "deletable": true,
    "editable": true
   },
   "outputs": [
    {
     "data": {
      "text/plain": [
       "<matplotlib.text.Text at 0x23d8521a8d0>"
      ]
     },
     "execution_count": 15,
     "metadata": {},
     "output_type": "execute_result"
    },
    {
     "data": {
      "image/png": "[encoded data removed]",
      "text/plain": [
       "<matplotlib.figure.Figure at 0x23d851dba58>"
      ]
     },
     "metadata": {},
     "output_type": "display_data"
    }
   ],
   "source": [
    "plt.scatter(data[:,0], data[:,1])\n",
    "plt.xlabel('Dimension 1')\n",
    "plt.ylabel('Dimension 2')\n",
    "plt.title('Input Data')"
   ]
  },
  {
   "cell_type": "code",
   "execution_count": 16,
   "metadata": {
    "collapsed": true,
    "deletable": true,
    "editable": true
   },
   "outputs": [],
   "source": [
    "dim1_min, dim1_max = data[:,0].min(), data[:,0].max()\n",
    "dim2_min, dim2_max = data[:,1].min(), data[:,1].max()\n",
    "num_output = labels.shape[1]\n",
    "\n",
    "dim1 = [dim1_min, dim1_max]\n",
    "dim2 = [dim2_min, dim2_max]\n",
    "snn = nl.net.newp([dim1, dim2], num_output)"
   ]
  },
  {
   "cell_type": "code",
   "execution_count": 17,
   "metadata": {
    "collapsed": false,
    "deletable": true,
    "editable": true
   },
   "outputs": [
    {
     "name": "stdout",
     "output_type": "stream",
     "text": [
      "Epoch: 20; Error: 4.0;\n",
      "Epoch: 40; Error: 4.0;\n",
      "Epoch: 60; Error: 4.0;\n",
      "Epoch: 80; Error: 4.0;\n",
      "Epoch: 100; Error: 4.0;\n",
      "The maximum number of train epochs is reached\n"
     ]
    }
   ],
   "source": [
    "error_progress = snn.train(data, labels, epochs=100, show=20, lr=0.03)"
   ]
  },
  {
   "cell_type": "code",
   "execution_count": 18,
   "metadata": {
    "collapsed": false,
    "deletable": true,
    "editable": true
   },
   "outputs": [
    {
     "data": {
      "image/png": "[encoded data removed]",
      "text/plain": [
       "<matplotlib.figure.Figure at 0x23d851d3b00>"
      ]
     },
     "metadata": {},
     "output_type": "display_data"
    }
   ],
   "source": [
    "plt.plot(error_progress)\n",
    "plt.xlabel('Number of Epochs')\n",
    "plt.ylabel('Training Error')\n",
    "plt.title('Training Error Progress')\n",
    "plt.grid()"
   ]
  },
  {
   "cell_type": "code",
   "execution_count": 19,
   "metadata": {
    "collapsed": false,
    "deletable": true,
    "editable": true
   },
   "outputs": [
    {
     "name": "stdout",
     "output_type": "stream",
     "text": [
      "Testing Data:\n",
      "\n",
      "[0.3, 4.2] ==> [ 0.  0.]\n",
      "[4.3, 0.5] ==> [ 1.  0.]\n",
      "[4.6, 8] ==> [ 1.  1.]\n"
     ]
    }
   ],
   "source": [
    "print('Testing Data:\\n')\n",
    "testing_data = [[0.3, 4.2], [4.3, 0.5], [4.6, 8]]\n",
    "for i in testing_data:\n",
    "    print(i, '==>', snn.sim([i])[0])"
   ]
  },
  {
   "cell_type": "markdown",
   "metadata": {
    "collapsed": true,
    "deletable": true,
    "editable": true
   },
   "source": [
    "## 4. Multi-Layer Neural Network\n",
    "\n",
    "- y=3x^2+5"
   ]
  },
  {
   "cell_type": "code",
   "execution_count": 20,
   "metadata": {
    "collapsed": false,
    "deletable": true,
    "editable": true
   },
   "outputs": [],
   "source": [
    "min_vals = -20\n",
    "max_vals = 20\n",
    "num_points = 140\n",
    "\n",
    "x = np.linspace(min_vals, max_vals, num_points)\n",
    "y = 3*np.square(x)+5\n",
    "y /= np.linalg.norm(y)"
   ]
  },
  {
   "cell_type": "code",
   "execution_count": 21,
   "metadata": {
    "collapsed": false,
    "deletable": true,
    "editable": true
   },
   "outputs": [
    {
     "data": {
      "text/plain": [
       "<matplotlib.text.Text at 0x23d852f8c18>"
      ]
     },
     "execution_count": 21,
     "metadata": {},
     "output_type": "execute_result"
    },
    {
     "data": {
      "image/png": "[encoded data removed]",
      "text/plain": [
       "<matplotlib.figure.Figure at 0x23d85278940>"
      ]
     },
     "metadata": {},
     "output_type": "display_data"
    }
   ],
   "source": [
    "data = x.reshape(num_points,1)\n",
    "labels = y.reshape(num_points, 1)\n",
    "\n",
    "plt.scatter(data, labels)\n",
    "plt.xlabel('Dimension 1')\n",
    "plt.ylabel('Dimension 2')\n",
    "plt.title('Data Points')"
   ]
  },
  {
   "cell_type": "code",
   "execution_count": 22,
   "metadata": {
    "collapsed": false,
    "deletable": true,
    "editable": true
   },
   "outputs": [
    {
     "name": "stdout",
     "output_type": "stream",
     "text": [
      "Epoch: 100; Error: 0.0441444004193849;\n",
      "Epoch: 200; Error: 0.0237653714456185;\n",
      "Epoch: 300; Error: 0.014656199005815464;\n",
      "The goal of learning is reached\n"
     ]
    }
   ],
   "source": [
    "mlnn = nl.net.newff([[min_vals, max_vals]], [10,6,1])\n",
    "mlnn.trainf = nl.train.train_gd\n",
    "error_progress = mlnn.train(data, labels, epochs=2000, show=100, goal=0.01)"
   ]
  },
  {
   "cell_type": "code",
   "execution_count": 23,
   "metadata": {
    "collapsed": false,
    "deletable": true,
    "editable": true
   },
   "outputs": [
    {
     "data": {
      "text/plain": [
       "<matplotlib.text.Text at 0x23d86335438>"
      ]
     },
     "execution_count": 23,
     "metadata": {},
     "output_type": "execute_result"
    },
    {
     "data": {
      "image/png": "[encoded data removed]",
      "text/plain": [
       "<matplotlib.figure.Figure at 0x23d8532c7b8>"
      ]
     },
     "metadata": {},
     "output_type": "display_data"
    }
   ],
   "source": [
    "output = mlnn.sim(data)\n",
    "y_pred = output.reshape(num_points)\n",
    "\n",
    "x_dense = np.linspace(min_vals, max_vals, num_points*2)\n",
    "y_dense_pred = mlnn.sim(x_dense.reshape(x_dense.size,1)).reshape(x_dense.size)\n",
    "\n",
    "plt.plot(x_dense, y_dense_pred, '-', x, y, '.', x, y_pred, 'p')\n",
    "plt.title('Actual vs. Predicted')"
   ]
  },
  {
   "cell_type": "markdown",
   "metadata": {
    "collapsed": true,
    "deletable": true,
    "editable": true
   },
   "source": [
    "## 5. Recurrent Neural Network\n",
    "\n",
    "- analysis of sequential data (weather, stock, traffic, video feeds)\n",
    "- suitable for time-series \n",
    "- require more complex architectures"
   ]
  },
  {
   "cell_type": "code",
   "execution_count": 24,
   "metadata": {
    "collapsed": false,
    "deletable": true,
    "editable": true
   },
   "outputs": [],
   "source": [
    "def get_data(num_points):\n",
    "    w_one = 0.6 * np.sin(np.arange(0, num_points))\n",
    "    w_two = 3.5 * np.sin(np.arange(0, num_points))\n",
    "    w_three = 1.2 * np.sin(np.arange(0, num_points))\n",
    "    w_four = 4.6 * np.sin(np.arange(0, num_points))\n",
    "    \n",
    "    a_one = np.ones(num_points)\n",
    "    a_two = 2.2 + np.zeros(num_points)\n",
    "    a_three = 3.1 * np.ones(num_points)\n",
    "    a_four = 0.9 + np.zeros(num_points)\n",
    "    \n",
    "    wave = np.array([w_one, w_two, w_three, w_four]).reshape(num_points*4,1)\n",
    "    amp = np.array([a_one, a_two, a_three, a_four]).reshape(num_points*4,1)\n",
    "    \n",
    "    return wave, amp\n",
    "\n",
    "def visualize_output(nn, num_points_test):\n",
    "    wave, amp = get_data(num_points_test)\n",
    "    output = nn.sim(wave)\n",
    "    plt.plot(amp.reshape(num_points_test*4))\n",
    "    plt.plot(output.reshape(num_points_test*4))\n",
    "    \n",
    "if __name__ == '__main__':\n",
    "    num_points = 50\n",
    "    wave, amp = get_data(num_points)"
   ]
  },
  {
   "cell_type": "code",
   "execution_count": 25,
   "metadata": {
    "collapsed": false,
    "deletable": true,
    "editable": true
   },
   "outputs": [],
   "source": [
    "nn = nl.net.newelm([[-2,2]], [10,1], [nl.trans.TanSig(), nl.trans.PureLin()])"
   ]
  },
  {
   "cell_type": "code",
   "execution_count": 26,
   "metadata": {
    "collapsed": true,
    "deletable": true,
    "editable": true
   },
   "outputs": [],
   "source": [
    "nn.layers[0].initf = nl.init.InitRand([-0.1, 0.1], 'wb')\n",
    "nn.layers[1].initf = nl.init.InitRand([-0.1, 0.1], 'wb')\n",
    "nn.init()"
   ]
  },
  {
   "cell_type": "code",
   "execution_count": 27,
   "metadata": {
    "collapsed": false,
    "deletable": true,
    "editable": true
   },
   "outputs": [
    {
     "name": "stdout",
     "output_type": "stream",
     "text": [
      "Epoch: 100; Error: 0.7698280245168898;\n",
      "Epoch: 200; Error: 0.5065018228428656;\n",
      "Epoch: 300; Error: 0.09293940297482038;\n",
      "Epoch: 400; Error: 0.05789813689113823;\n",
      "Epoch: 500; Error: 0.05415496352463623;\n",
      "Epoch: 600; Error: 0.05128673115020038;\n",
      "Epoch: 700; Error: 0.05373027676541493;\n",
      "Epoch: 800; Error: 0.048477788606671866;\n",
      "Epoch: 900; Error: 0.048698765750251026;\n",
      "Epoch: 1000; Error: 0.046406492223783305;\n",
      "Epoch: 1100; Error: 0.04971945745593675;\n",
      "Epoch: 1200; Error: 0.04650621737090403;\n",
      "The maximum number of train epochs is reached\n"
     ]
    },
    {
     "data": {
      "image/png": "[encoded data removed]",
      "text/plain": [
       "<matplotlib.figure.Figure at 0x23d86381c88>"
      ]
     },
     "metadata": {},
     "output_type": "display_data"
    },
    {
     "data": {
      "image/png": "[encoded data removed]",
      "text/plain": [
       "<matplotlib.figure.Figure at 0x23d863e8fd0>"
      ]
     },
     "metadata": {},
     "output_type": "display_data"
    }
   ],
   "source": [
    "error_progress = nn.train(wave, amp, epochs=1200, show=100, goal=0.01)\n",
    "\n",
    "output = nn.sim(wave)\n",
    "\n",
    "plt.subplot(211)\n",
    "plt.plot(error_progress)\n",
    "plt.xlabel('#Epochs')\n",
    "plt.ylabel('Error (MSE)')\n",
    "\n",
    "plt.subplot(212)\n",
    "plt.plot(amp.reshape(num_points*4))\n",
    "plt.plot(output.reshape(num_points*4))\n",
    "plt.legend(['Original', 'Predicted'])\n",
    "\n",
    "plt.figure()\n",
    "plt.subplot(211)\n",
    "visualize_output(nn, 82)\n",
    "plt.xlim([0, 300])\n",
    "\n",
    "plt.subplot(212)\n",
    "visualize_output(nn, 49)\n",
    "plt.xlim([0, 300])\n",
    "plt.show()"
   ]
  },
  {
   "cell_type": "markdown",
   "metadata": {
    "collapsed": true,
    "deletable": true,
    "editable": true
   },
   "source": [
    "## 6. Optical Character Recognition\n",
    "\n",
    "- recognizing characters in images\n",
    "- download and extract letter.data.gz from http://ai.stanford.edu/~btaskar/ocr/"
   ]
  },
  {
   "cell_type": "code",
   "execution_count": 28,
   "metadata": {
    "collapsed": false,
    "deletable": true,
    "editable": true
   },
   "outputs": [],
   "source": [
    "import os\n",
    "import sys\n",
    "\n",
    "import cv2\n",
    "import numpy as np\n",
    "\n",
    "input_f = 'letter.data'"
   ]
  },
  {
   "cell_type": "code",
   "execution_count": 29,
   "metadata": {
    "collapsed": false,
    "deletable": true,
    "editable": true
   },
   "outputs": [
    {
     "name": "stdout",
     "output_type": "stream",
     "text": [
      "1\to\t2\t1\t1\t0\t0\t0\t0\t0\t0\t0\t0\t0\t0\t0\t0\t0\t0\t0\t0\t0\t0\t0\t0\t0\t0\t0\t0\t0\t0\t1\t1\t1\t0\t0\t0\t0\t0\t1\t1\t1\t1\t1\t0\t0\t0\t1\t0\t0\t0\t1\t1\t0\t1\t1\t0\t0\t0\t0\t1\t1\t1\t0\t0\t0\t0\t0\t0\t1\t1\t0\t0\t0\t0\t0\t0\t1\t1\t0\t0\t0\t0\t0\t0\t1\t1\t0\t0\t0\t0\t0\t1\t1\t1\t0\t0\t0\t1\t1\t1\t0\t1\t1\t1\t1\t1\t0\t0\t0\t0\t0\t0\t0\t0\t0\t0\t0\t0\t0\t0\t0\t0\t0\t0\t0\t0\t0\t0\t0\t0\t0\t0\t0\t\n",
      "\n",
      "2\tm\t3\t1\t2\t0\t0\t0\t0\t0\t0\t0\t0\t0\t0\t0\t0\t0\t0\t0\t0\t0\t0\t0\t0\t0\t0\t0\t0\t0\t0\t0\t0\t0\t0\t0\t0\t0\t0\t0\t0\t0\t0\t0\t0\t0\t0\t0\t0\t0\t0\t0\t0\t0\t0\t1\t1\t1\t1\t1\t1\t0\t1\t1\t0\t1\t1\t0\t1\t1\t1\t0\t1\t1\t0\t0\t0\t1\t1\t0\t1\t1\t0\t0\t0\t1\t0\t0\t0\t0\t0\t0\t0\t0\t0\t0\t0\t0\t0\t0\t0\t0\t0\t0\t0\t0\t0\t0\t0\t0\t0\t0\t0\t0\t0\t0\t0\t0\t0\t0\t0\t0\t0\t0\t0\t0\t0\t0\t0\t0\t0\t0\t0\t0\t\n",
      "\n",
      "3\tm\t4\t1\t3\t0\t0\t0\t0\t0\t0\t0\t0\t0\t0\t0\t0\t0\t0\t0\t0\t0\t0\t0\t0\t0\t0\t0\t0\t0\t0\t0\t0\t0\t0\t0\t0\t0\t0\t0\t0\t0\t0\t0\t0\t0\t0\t0\t0\t0\t0\t0\t0\t0\t1\t1\t1\t0\t0\t1\t1\t0\t1\t0\t1\t0\t1\t1\t1\t0\t1\t0\t1\t1\t1\t0\t1\t0\t1\t0\t0\t1\t0\t0\t1\t1\t0\t0\t0\t0\t0\t0\t0\t0\t0\t0\t0\t0\t0\t0\t0\t0\t0\t0\t0\t0\t0\t0\t0\t0\t0\t0\t0\t0\t0\t0\t0\t0\t0\t0\t0\t0\t0\t0\t0\t0\t0\t0\t0\t0\t0\t0\t0\t0\t\n",
      "\n",
      "4\ta\t5\t1\t4\t0\t0\t0\t0\t0\t0\t0\t0\t0\t0\t0\t0\t0\t0\t0\t0\t0\t0\t0\t0\t0\t0\t0\t0\t0\t0\t0\t0\t0\t0\t0\t0\t0\t0\t0\t0\t0\t0\t0\t0\t0\t0\t0\t1\t1\t0\t0\t0\t0\t0\t1\t1\t0\t0\t0\t0\t0\t1\t0\t0\t0\t1\t1\t0\t0\t1\t0\t0\t1\t0\t1\t1\t0\t1\t1\t1\t0\t0\t0\t1\t0\t0\t0\t0\t0\t0\t0\t1\t1\t0\t0\t0\t0\t0\t0\t0\t0\t0\t0\t0\t0\t0\t0\t0\t0\t0\t0\t0\t0\t0\t0\t0\t0\t0\t0\t0\t0\t0\t0\t0\t0\t0\t0\t0\t0\t0\t0\t0\t0\t\n",
      "\n",
      "5\tn\t6\t1\t5\t0\t0\t0\t0\t0\t0\t0\t0\t0\t0\t0\t0\t0\t0\t0\t0\t0\t0\t0\t0\t0\t0\t0\t0\t0\t0\t0\t0\t0\t0\t0\t0\t0\t0\t0\t0\t0\t1\t1\t1\t0\t0\t0\t0\t1\t1\t0\t1\t0\t0\t0\t1\t1\t0\t0\t1\t0\t1\t1\t1\t0\t0\t0\t1\t0\t1\t1\t1\t0\t0\t0\t1\t0\t1\t1\t0\t0\t0\t0\t1\t0\t1\t1\t0\t0\t0\t0\t1\t0\t1\t0\t0\t0\t0\t0\t0\t1\t1\t0\t0\t0\t0\t0\t0\t1\t0\t0\t0\t0\t0\t0\t0\t0\t0\t0\t0\t0\t0\t0\t0\t0\t0\t0\t0\t0\t0\t0\t0\t0\t\n",
      "\n",
      "6\td\t7\t1\t6\t0\t0\t0\t0\t0\t0\t0\t0\t0\t0\t1\t0\t0\t0\t0\t0\t0\t0\t1\t1\t0\t0\t0\t0\t0\t0\t1\t1\t1\t0\t0\t0\t0\t0\t1\t0\t1\t1\t0\t0\t0\t0\t1\t1\t0\t1\t0\t0\t0\t0\t0\t1\t0\t1\t1\t0\t0\t0\t0\t1\t0\t0\t1\t1\t0\t0\t0\t1\t1\t0\t0\t1\t0\t0\t0\t0\t1\t0\t0\t1\t0\t0\t1\t1\t1\t0\t0\t1\t0\t1\t1\t0\t1\t0\t1\t1\t0\t1\t0\t0\t1\t1\t1\t0\t0\t1\t0\t1\t1\t1\t0\t0\t1\t1\t1\t1\t0\t1\t1\t1\t1\t0\t0\t0\t0\t0\t0\t0\t0\t\n",
      "\n"
     ]
    }
   ],
   "source": [
    "img_resize_factor = 12\n",
    "start, end = 6, -1\n",
    "height, width = 16, 8\n",
    "\n",
    "with open(input_f, 'r') as f:\n",
    "    for line in f.readlines():\n",
    "        data = np.array([255*float(x) for x in line.split('\\t')[start:end]])\n",
    "        img = np.reshape(data, (height, width))\n",
    "        img_scaled = cv2.resize(img, None, fx=img_resize_factor, fy=img_resize_factor)\n",
    "        print(line)\n",
    "        cv2.imshow('Img', img_scaled)\n",
    "        \n",
    "        c = cv2.waitKey()\n",
    "        if c == 27:\n",
    "            break"
   ]
  },
  {
   "cell_type": "code",
   "execution_count": null,
   "metadata": {
    "collapsed": false,
    "deletable": true,
    "editable": true
   },
   "outputs": [],
   "source": []
  },
  {
   "cell_type": "code",
   "execution_count": null,
   "metadata": {
    "collapsed": true,
    "deletable": true,
    "editable": true
   },
   "outputs": [],
   "source": []
  }
 ],
 "metadata": {
  "kernelspec": {
   "display_name": "Python 3",
   "language": "python",
   "name": "python3"
  },
  "language_info": {
   "codemirror_mode": {
    "name": "ipython",
    "version": 3
   },
   "file_extension": ".py",
   "mimetype": "text/x-python",
   "name": "python",
   "nbconvert_exporter": "python",
   "pygments_lexer": "ipython3",
   "version": "3.5.0"
  }
 },
 "nbformat": 4,
 "nbformat_minor": 2
}
